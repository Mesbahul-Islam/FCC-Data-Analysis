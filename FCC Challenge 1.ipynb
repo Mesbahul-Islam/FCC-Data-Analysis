{
 "cells": [
  {
   "cell_type": "code",
   "execution_count": 33,
   "id": "2c6fc474",
   "metadata": {},
   "outputs": [],
   "source": [
    "import pandas as pd"
   ]
  },
  {
   "cell_type": "code",
   "execution_count": 57,
   "id": "75b6e85b",
   "metadata": {},
   "outputs": [],
   "source": [
    "import numpy as np"
   ]
  },
  {
   "cell_type": "code",
   "execution_count": 127,
   "id": "1a47823e",
   "metadata": {},
   "outputs": [
    {
     "data": {
      "text/plain": [
       "{'mean': [[3.6666666666666665, 5.0, 3.0],\n",
       "  [3.3333333333333335, 4.0, 4.333333333333333],\n",
       "  3.888888888888889],\n",
       " 'variance': [[9.555555555555557, 0.6666666666666666, 8.666666666666666],\n",
       "  [3.555555555555556, 10.666666666666666, 6.222222222222221],\n",
       "  6.987654320987654],\n",
       " 'standard deviation': [[3.091206165165235,\n",
       "   0.816496580927726,\n",
       "   2.943920288775949],\n",
       "  [3.091206165165235, 0.816496580927726, 2.943920288775949],\n",
       "  2.6434171674156266],\n",
       " 'max': [[8, 6, 7], [6, 8, 7], 8],\n",
       " 'min': [[1, 4, 0], [2, 0, 1], 0],\n",
       " 'sum': [[11, 15, 9], [10, 12, 13], 0]}"
      ]
     },
     "execution_count": 127,
     "metadata": {},
     "output_type": "execute_result"
    }
   ],
   "source": [
    "def calculate(list):\n",
    "        x = np.array(list)\n",
    "        if x.size != 9:\n",
    "            raise ValueError('List must contain nine numbers.')\n",
    "        else:\n",
    "            y = x.reshape(3,3)\n",
    "            calculations ={'mean':[y.mean(axis=0).tolist(),y.mean(axis =1).tolist(), y.mean().tolist()],\n",
    "                           \n",
    "                          'variance':[y.var(axis=0).tolist(),y.var(axis =1).tolist(), y.var().tolist()],\n",
    "                           \n",
    "                          'standard deviation': [y.std(axis=0).tolist(),y.std(axis=0).tolist(),y.std().tolist()],\n",
    "                           \n",
    "                          'max': [y.max(axis = 0).tolist(),y.max(axis=1).tolist(),y.max().tolist()],\n",
    "                           \n",
    "                          'min':[y.min(axis=0).tolist(),y.min(axis=1).tolist(),y.min().tolist()],\n",
    "                          'sum':[y.sum(axis=0).tolist(),y.sum(axis=1).tolist(),y.min().tolist()]}\n",
    "            return calculations\n",
    "        \n",
    " \n",
    "calculate([2, 6, 2, 8, 4, 0, 1, 5, 7])"
   ]
  }
 ],
 "metadata": {
  "kernelspec": {
   "display_name": "Python 3 (ipykernel)",
   "language": "python",
   "name": "python3"
  },
  "language_info": {
   "codemirror_mode": {
    "name": "ipython",
    "version": 3
   },
   "file_extension": ".py",
   "mimetype": "text/x-python",
   "name": "python",
   "nbconvert_exporter": "python",
   "pygments_lexer": "ipython3",
   "version": "3.9.7"
  }
 },
 "nbformat": 4,
 "nbformat_minor": 5
}
