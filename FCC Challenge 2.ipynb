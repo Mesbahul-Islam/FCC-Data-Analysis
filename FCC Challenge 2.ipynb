{
 "cells": [
  {
   "cell_type": "code",
   "execution_count": 2,
   "id": "e060ca9d",
   "metadata": {},
   "outputs": [],
   "source": [
    "import numpy as np"
   ]
  },
  {
   "cell_type": "code",
   "execution_count": 3,
   "id": "89e8a30e",
   "metadata": {},
   "outputs": [],
   "source": [
    "import pandas as pd\n"
   ]
  },
  {
   "cell_type": "code",
   "execution_count": 122,
   "id": "0fc4b625",
   "metadata": {},
   "outputs": [
    {
     "data": {
      "text/plain": [
       "(White                 27816\n",
       " Black                  3124\n",
       " Asian-Pac-Islander     1039\n",
       " Amer-Indian-Eskimo      311\n",
       " Other                   271\n",
       " Name: race, dtype: int64,\n",
       " 39.4,\n",
       " 16.4,\n",
       " 46.5,\n",
       " 17.4,\n",
       " 1,\n",
       " 10.0,\n",
       " 'Iran',\n",
       " 41.9,\n",
       " 'Prof-specialty')"
      ]
     },
     "execution_count": 122,
     "metadata": {},
     "output_type": "execute_result"
    }
   ],
   "source": [
    "import pandas as pd\n",
    "\n",
    "\n",
    "def calculate_demographic_data(print_data=True):\n",
    "    # Read data from file\n",
    "    df = pd.read_csv('adult.data.csv')\n",
    "\n",
    "    # How many of each race are represented in this dataset? This should be a Pandas series with race names as the index labels.\n",
    "    race_count=df['race'].value_counts()\n",
    "\n",
    "    # What is the average age of men?\n",
    "    average_age_men = round(df[df['sex'] == \"Male\"]['age'].mean(),1)\n",
    "\n",
    "    # What is the percentage of people who have a Bachelor's degree?\n",
    "    percentage_bachelors = round((df['education'].value_counts()['Bachelors']/df['education'].value_counts().sum())*100,1)\n",
    "\n",
    "    # What percentage of people with advanced education (`Bachelors`, `Masters`, or `Doctorate`) make more than 50K?\n",
    "    # What percentage of people without advanced education make more than 50K?\n",
    "\n",
    "    # with and without `Bachelors`, `Masters`, or `Doctorate`\n",
    "    higher_education =df[df['education'].isin(['Bachelors','Masters','Doctorate'])]\n",
    "\n",
    "    lower_education = df[~df['education'].isin(['Bachelors','Masters','Doctorate'])]\n",
    "\n",
    "    # percentage with salary >50K\n",
    "    higher_education_rich = higher_education_rich= round((len(higher_education[higher_education['salary'] =='>50K'])/len(higher_education))*100,1)\n",
    "    lower_education_rich = round((len(lower_education[lower_education['salary']=='>50K'])/len(lower_education))*100,1)\n",
    "\n",
    "    # What is the minimum number of hours a person works per week (hours-per-week feature)?\n",
    "    min_work_hours = df['hours-per-week'].min()\n",
    "    # Create the df with hours-per-week == 1\n",
    "\n",
    "    # What percentage of the people who work the minimum number of hours per week have a salary of >50K?\n",
    "    num_min_workers = df[df['hours-per-week'].isin([1])] # Create the df with hours-per-week == 1\n",
    "\n",
    "    rich_percentage = round((len(num_min_workers[num_min_workers['salary'] == '>50K'])/len(num_min_workers))*100,0)\n",
    "\n",
    "    # What country has the highest percentage of people that earn >50K?\n",
    "    highest_earning_rich = df[df['salary'] == '>50K']['native-country'].value_counts()\n",
    "    country_list = df['native-country'].value_counts()\n",
    "    highest_earning_country = (highest_earning_rich/country_list).idxmax()\n",
    "    highest_earning_country_percentage = round(((highest_earning_rich/country_list).max())*100,1)\n",
    "\n",
    "    # Identify the most popular occupation for those who earn >50K in India.\n",
    "    top_IN_occupation = df[df['salary'].isin(['>50K']) & df['native-country'].isin(['India'])]['occupation'].value_counts().idxmax()\n",
    "    return race_count, average_age_men, percentage_bachelors, higher_education_rich, lower_education_rich, min_work_hours, rich_percentage,highest_earning_country, highest_earning_country_percentage,top_IN_occupation\n",
    "\n",
    "calculate_demographic_data()"
   ]
  },
  {
   "cell_type": "code",
   "execution_count": null,
   "id": "e9679ef3",
   "metadata": {},
   "outputs": [],
   "source": []
  }
 ],
 "metadata": {
  "kernelspec": {
   "display_name": "Python 3 (ipykernel)",
   "language": "python",
   "name": "python3"
  },
  "language_info": {
   "codemirror_mode": {
    "name": "ipython",
    "version": 3
   },
   "file_extension": ".py",
   "mimetype": "text/x-python",
   "name": "python",
   "nbconvert_exporter": "python",
   "pygments_lexer": "ipython3",
   "version": "3.9.7"
  }
 },
 "nbformat": 4,
 "nbformat_minor": 5
}
